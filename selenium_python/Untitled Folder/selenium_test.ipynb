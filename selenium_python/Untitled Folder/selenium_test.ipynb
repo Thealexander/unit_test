{
 "cells": [
  {
   "cell_type": "code",
   "execution_count": 1,
   "id": "98dd6731",
   "metadata": {},
   "outputs": [
    {
     "name": "stdout",
     "output_type": "stream",
     "text": [
      "Requirement already satisfied: selenium in c:\\users\\usuario\\appdata\\local\\packages\\pythonsoftwarefoundation.python.3.10_qbz5n2kfra8p0\\localcache\\local-packages\\python310\\site-packages (4.7.2)Note: you may need to restart the kernel to use updated packages.\n",
      "\n",
      "Requirement already satisfied: certifi>=2021.10.8 in c:\\users\\usuario\\appdata\\local\\packages\\pythonsoftwarefoundation.python.3.10_qbz5n2kfra8p0\\localcache\\local-packages\\python310\\site-packages (from selenium) (2022.12.7)\n",
      "Requirement already satisfied: trio~=0.17 in c:\\users\\usuario\\appdata\\local\\packages\\pythonsoftwarefoundation.python.3.10_qbz5n2kfra8p0\\localcache\\local-packages\\python310\\site-packages (from selenium) (0.22.0)\n",
      "Requirement already satisfied: urllib3[socks]~=1.26 in c:\\users\\usuario\\appdata\\local\\packages\\pythonsoftwarefoundation.python.3.10_qbz5n2kfra8p0\\localcache\\local-packages\\python310\\site-packages (from selenium) (1.26.13)\n",
      "Requirement already satisfied: trio-websocket~=0.9 in c:\\users\\usuario\\appdata\\local\\packages\\pythonsoftwarefoundation.python.3.10_qbz5n2kfra8p0\\localcache\\local-packages\\python310\\site-packages (from selenium) (0.9.2)\n",
      "Requirement already satisfied: sniffio in c:\\users\\usuario\\appdata\\local\\packages\\pythonsoftwarefoundation.python.3.10_qbz5n2kfra8p0\\localcache\\local-packages\\python310\\site-packages (from trio~=0.17->selenium) (1.3.0)\n",
      "Requirement already satisfied: outcome in c:\\users\\usuario\\appdata\\local\\packages\\pythonsoftwarefoundation.python.3.10_qbz5n2kfra8p0\\localcache\\local-packages\\python310\\site-packages (from trio~=0.17->selenium) (1.2.0)\n",
      "Requirement already satisfied: async-generator>=1.9 in c:\\users\\usuario\\appdata\\local\\packages\\pythonsoftwarefoundation.python.3.10_qbz5n2kfra8p0\\localcache\\local-packages\\python310\\site-packages (from trio~=0.17->selenium) (1.10)\n",
      "Requirement already satisfied: sortedcontainers in c:\\users\\usuario\\appdata\\local\\packages\\pythonsoftwarefoundation.python.3.10_qbz5n2kfra8p0\\localcache\\local-packages\\python310\\site-packages (from trio~=0.17->selenium) (2.4.0)\n",
      "Requirement already satisfied: attrs>=19.2.0 in c:\\users\\usuario\\appdata\\local\\packages\\pythonsoftwarefoundation.python.3.10_qbz5n2kfra8p0\\localcache\\local-packages\\python310\\site-packages (from trio~=0.17->selenium) (22.2.0)\n",
      "Requirement already satisfied: exceptiongroup>=1.0.0rc9 in c:\\users\\usuario\\appdata\\local\\packages\\pythonsoftwarefoundation.python.3.10_qbz5n2kfra8p0\\localcache\\local-packages\\python310\\site-packages (from trio~=0.17->selenium) (1.1.0)\n",
      "Requirement already satisfied: idna in c:\\users\\usuario\\appdata\\local\\packages\\pythonsoftwarefoundation.python.3.10_qbz5n2kfra8p0\\localcache\\local-packages\\python310\\site-packages (from trio~=0.17->selenium) (3.4)\n",
      "Requirement already satisfied: cffi>=1.14 in c:\\users\\usuario\\appdata\\local\\packages\\pythonsoftwarefoundation.python.3.10_qbz5n2kfra8p0\\localcache\\local-packages\\python310\\site-packages (from trio~=0.17->selenium) (1.15.1)\n",
      "Requirement already satisfied: wsproto>=0.14 in c:\\users\\usuario\\appdata\\local\\packages\\pythonsoftwarefoundation.python.3.10_qbz5n2kfra8p0\\localcache\\local-packages\\python310\\site-packages (from trio-websocket~=0.9->selenium) (1.2.0)\n",
      "Requirement already satisfied: PySocks!=1.5.7,<2.0,>=1.5.6 in c:\\users\\usuario\\appdata\\local\\packages\\pythonsoftwarefoundation.python.3.10_qbz5n2kfra8p0\\localcache\\local-packages\\python310\\site-packages (from urllib3[socks]~=1.26->selenium) (1.7.1)\n",
      "Requirement already satisfied: pycparser in c:\\users\\usuario\\appdata\\local\\packages\\pythonsoftwarefoundation.python.3.10_qbz5n2kfra8p0\\localcache\\local-packages\\python310\\site-packages (from cffi>=1.14->trio~=0.17->selenium) (2.21)\n",
      "Requirement already satisfied: h11<1,>=0.9.0 in c:\\users\\usuario\\appdata\\local\\packages\\pythonsoftwarefoundation.python.3.10_qbz5n2kfra8p0\\localcache\\local-packages\\python310\\site-packages (from wsproto>=0.14->trio-websocket~=0.9->selenium) (0.14.0)\n"
     ]
    }
   ],
   "source": [
    "pip install selenium"
   ]
  },
  {
   "cell_type": "code",
   "execution_count": 16,
   "id": "f5773084",
   "metadata": {},
   "outputs": [],
   "source": [
    "from selenium import webdriver\n",
    "import time\n",
    "from selenium.webdriver.common.by import  By\n",
    "from selenium.webdriver.common.keys import Keys"
   ]
  },
  {
   "cell_type": "code",
   "execution_count": 3,
   "id": "3814b9d7",
   "metadata": {},
   "outputs": [
    {
     "name": "stderr",
     "output_type": "stream",
     "text": [
      "D:\\TEMP\\ipykernel_60932\\4172863513.py:2: DeprecationWarning: executable_path has been deprecated, please pass in a Service object\n",
      "  driver = webdriver.Chrome('C:\\Angular_test\\webdrivers\\chromedriver.exe')\n"
     ]
    }
   ],
   "source": [
    "url = \"https://www.utest.com/\"\n",
    "driver = webdriver.Chrome('C:\\Angular_test\\webdrivers\\chromedriver.exe')\n",
    "driver.get(url)"
   ]
  },
  {
   "cell_type": "code",
   "execution_count": 5,
   "id": "54ff78ce",
   "metadata": {},
   "outputs": [],
   "source": [
    "driver.find_element(\"xpath\",'//a[@class=\"unauthenticated-nav-bar__sign-up\"]').click()"
   ]
  },
  {
   "cell_type": "code",
   "execution_count": 8,
   "id": "f87e6640",
   "metadata": {},
   "outputs": [],
   "source": [
    "driver.find_element(\"id\",'firstName').send_keys('Alex')\n",
    "driver.find_element(\"id\",'lastName').send_keys('Gaitan')\n",
    "driver.find_element(\"id\",'email').send_keys('sn.alexgmontes17@gmail.com')"
   ]
  },
  {
   "cell_type": "code",
   "execution_count": 13,
   "id": "9160a6bf",
   "metadata": {},
   "outputs": [],
   "source": [
    "driver.find_element(\"id\",'birthMonth').click() \n",
    "driver.find_element(\"xpath\",'//option[@label=\"May\"]').click()\n",
    "\n",
    "driver.find_element(\"id\",'birthDay').click() \n",
    "driver.find_element(\"xpath\",'//option[@label=\"17\"]').click()\n",
    "\n",
    "driver.find_element(\"id\",'birthYear').click() \n",
    "driver.find_element(\"xpath\",'//option[@label=\"1995\"]').click()"
   ]
  },
  {
   "cell_type": "code",
   "execution_count": 14,
   "id": "83acd30c",
   "metadata": {},
   "outputs": [],
   "source": [
    "driver.find_element(\"xpath\",'//i[@class=\"material-icons\"]').click()"
   ]
  },
  {
   "cell_type": "code",
   "execution_count": 30,
   "id": "a52358ff",
   "metadata": {},
   "outputs": [],
   "source": [
    "el = driver.find_element(By.ID, \"city\")\n",
    "el.click()\n",
    "time.sleep(1)\n",
    "el.send_keys('Masaya')\n",
    "time.sleep(1)\n",
    "el.send_keys(Keys.DOWN)\n",
    "el.send_keys(Keys.ENTER)\n",
    "\n",
    "driver.find_element(\"id\",'zip').send_keys('42800')"
   ]
  },
  {
   "cell_type": "code",
   "execution_count": 46,
   "id": "22caafb5",
   "metadata": {},
   "outputs": [
    {
     "ename": "AttributeError",
     "evalue": "'WebDriver' object has no attribute 'findElement'",
     "output_type": "error",
     "traceback": [
      "\u001b[1;31m---------------------------------------------------------------------------\u001b[0m",
      "\u001b[1;31mAttributeError\u001b[0m                            Traceback (most recent call last)",
      "Cell \u001b[1;32mIn[46], line 1\u001b[0m\n\u001b[1;32m----> 1\u001b[0m \u001b[43mdriver\u001b[49m\u001b[38;5;241;43m.\u001b[39;49m\u001b[43mfindElement\u001b[49m(\u001b[38;5;124m\"\u001b[39m\u001b[38;5;124mxpath\u001b[39m\u001b[38;5;124m\"\u001b[39m,\u001b[38;5;124m'\u001b[39m\u001b[38;5;124m//a[@class=\u001b[39m\u001b[38;5;124m\"\u001b[39m\u001b[38;5;124mbtn btn-blue pull-right\u001b[39m\u001b[38;5;124m\"\u001b[39m\u001b[38;5;124m]\u001b[39m\u001b[38;5;124m'\u001b[39m)\u001b[38;5;241m.\u001b[39mclick()\n",
      "\u001b[1;31mAttributeError\u001b[0m: 'WebDriver' object has no attribute 'findElement'"
     ]
    }
   ],
   "source": [
    "driver.find_element(\"xpath\",'//a[@class=\"btn btn-blue pull-right\"]').click()"
   ]
  },
  {
   "cell_type": "code",
   "execution_count": 48,
   "id": "20d98486",
   "metadata": {},
   "outputs": [
    {
     "ename": "AttributeError",
     "evalue": "'WebDriver' object has no attribute 'find_element_by_xpath'",
     "output_type": "error",
     "traceback": [
      "\u001b[1;31m---------------------------------------------------------------------------\u001b[0m",
      "\u001b[1;31mAttributeError\u001b[0m                            Traceback (most recent call last)",
      "Cell \u001b[1;32mIn[48], line 1\u001b[0m\n\u001b[1;32m----> 1\u001b[0m brand \u001b[38;5;241m=\u001b[39m  \u001b[43mdriver\u001b[49m\u001b[38;5;241;43m.\u001b[39;49m\u001b[43mfind_element_by_xpath\u001b[49m(\u001b[38;5;124m'\u001b[39m\u001b[38;5;124m(//span[@class=\u001b[39m\u001b[38;5;124m\"\u001b[39m\u001b[38;5;124mbtn btn-default form-control ui-select-toggle\u001b[39m\u001b[38;5;124m\"\u001b[39m\u001b[38;5;124m])[4]\u001b[39m\u001b[38;5;124m'\u001b[39m)\u001b[38;5;241m.\u001b[39mclick()\n\u001b[0;32m      2\u001b[0m \u001b[38;5;66;03m#brand.click()\u001b[39;00m\n\u001b[0;32m      3\u001b[0m time\u001b[38;5;241m.\u001b[39msleep(\u001b[38;5;241m3\u001b[39m)\n",
      "\u001b[1;31mAttributeError\u001b[0m: 'WebDriver' object has no attribute 'find_element_by_xpath'"
     ]
    }
   ],
   "source": [
    "brand =  driver.find_element_by_xpath('(//span[@class=\"btn btn-default form-control ui-select-toggle\"])[4]').click()\n",
    "#brand.click()\n",
    "time.sleep(3)\n",
    "driver.find_element('xpath','//input[@placeholder=\"Select Brand\"]').send_keys('Nokia')\n",
    "driver.find_element('xpath','//span[@class=\"ui-select-highlight\"]').click()\n"
   ]
  },
  {
   "cell_type": "code",
   "execution_count": null,
   "id": "3b3b5a17",
   "metadata": {},
   "outputs": [],
   "source": [
    "model =  driver.find_element_by_xpath('(//span[@class=\"btn btn-default form-control ui-select-toggle\"])[1]').click()\n",
    "#brand.click()\n",
    "time.sleep(3)\n",
    "driver.find_element('xpath','//input[@placeholder=\"Select a Model\"]').send_keys('G21')\n",
    "driver.find_element('xpath','//span[@class=\"ui-select-highlight\"]').click()\n"
   ]
  },
  {
   "cell_type": "code",
   "execution_count": null,
   "id": "51f7148a",
   "metadata": {},
   "outputs": [],
   "source": [
    "os =  driver.find_element_by_xpath('(//span[@class=\"btn btn-default form-control ui-select-toggle\"])[5]').click()\n",
    "#brand.click()\n",
    "time.sleep(3)\n",
    "driver.find_element('xpath','(//input[@placeholder=\"Select OS\"])[2]').send_keys('Android 11')\n",
    "driver.find_element('xpath','(//span[@class=\"ui-select-highlight\"])[1]').click()"
   ]
  },
  {
   "cell_type": "code",
   "execution_count": null,
   "id": "73003742",
   "metadata": {},
   "outputs": [],
   "source": [
    "driver.find_element_by_xpath('//a[@class=\"btn btn-blue pull-right\"]').click"
   ]
  },
  {
   "cell_type": "code",
   "execution_count": null,
   "id": "7beefaa6",
   "metadata": {},
   "outputs": [],
   "source": [
    "password =\"Testing.1705\"\n",
    "a = driver.find_element(\"id\",'password')\n",
    "a.send_keys(password)\n",
    "time.sleep(1)\n",
    "b = driver.find_element(\"id\",'confirmPassword')\n",
    "b.send_keys(password)\n"
   ]
  },
  {
   "cell_type": "code",
   "execution_count": null,
   "id": "582ed491",
   "metadata": {},
   "outputs": [],
   "source": [
    "driver.find_element(\"xpath\",('//span[@class=\"checkmark signup-consent_checkbox error\"])[1]').click()\n",
    "driver.find_element(\"xpath\",('//span[@class=\"checkmark signup-consent_checkbox error\"])').click()"
   ]
  },
  {
   "cell_type": "code",
   "execution_count": null,
   "id": "3d87ea09",
   "metadata": {},
   "outputs": [],
   "source": [
    "driver.find_element(\"xpath\",'//a[@class=\"btn btn-blue\"]').click()"
   ]
  }
 ],
 "metadata": {
  "kernelspec": {
   "display_name": "Python 3 (ipykernel)",
   "language": "python",
   "name": "python3"
  },
  "language_info": {
   "codemirror_mode": {
    "name": "ipython",
    "version": 3
   },
   "file_extension": ".py",
   "mimetype": "text/x-python",
   "name": "python",
   "nbconvert_exporter": "python",
   "pygments_lexer": "ipython3",
   "version": "3.10.9"
  }
 },
 "nbformat": 4,
 "nbformat_minor": 5
}
